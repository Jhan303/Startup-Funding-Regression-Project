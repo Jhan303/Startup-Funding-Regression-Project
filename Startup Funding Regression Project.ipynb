{
 "cells": [
  {
   "cell_type": "markdown",
   "id": "a2d6a650-cd49-4d8e-8a3c-6a5b42bad556",
   "metadata": {},
   "source": [
    "# Startup Funding Regression Project"
   ]
  },
  {
   "cell_type": "code",
   "execution_count": 1,
   "id": "43718ba0-f070-4cf6-a77f-8c1dfbdb8241",
   "metadata": {},
   "outputs": [
    {
     "name": "stdout",
     "output_type": "stream",
     "text": [
      "Requirement already satisfied: fuzzywuzzy[speedup] in c:\\users\\jhana\\anaconda3\\lib\\site-packages (0.18.0)\n",
      "Requirement already satisfied: python-levenshtein>=0.12 in c:\\users\\jhana\\anaconda3\\lib\\site-packages (from fuzzywuzzy[speedup]) (0.27.1)\n",
      "Requirement already satisfied: Levenshtein==0.27.1 in c:\\users\\jhana\\anaconda3\\lib\\site-packages (from python-levenshtein>=0.12->fuzzywuzzy[speedup]) (0.27.1)\n",
      "Requirement already satisfied: rapidfuzz<4.0.0,>=3.9.0 in c:\\users\\jhana\\anaconda3\\lib\\site-packages (from Levenshtein==0.27.1->python-levenshtein>=0.12->fuzzywuzzy[speedup]) (3.14.1)\n"
     ]
    }
   ],
   "source": [
    "!pip install fuzzywuzzy[speedup]"
   ]
  },
  {
   "cell_type": "code",
   "execution_count": 197,
   "id": "6243f949-8f33-496c-9da4-7e99213deb06",
   "metadata": {},
   "outputs": [],
   "source": [
    "import pandas as pd\n",
    "import numpy as np\n",
    "from functools import reduce\n",
    "from sklearn.model_selection import train_test_split, RandomizedSearchCV\n",
    "from sklearn.ensemble import RandomForestRegressor\n",
    "from sklearn.preprocessing import MultiLabelBinarizer\n",
    "from fuzzywuzzy import process, fuzz\n",
    "from collections import Counter\n",
    "from sklearn.metrics import mean_squared_error, mean_absolute_error, r2_score"
   ]
  },
  {
   "cell_type": "markdown",
   "id": "d53f2d4a-9fe5-42d4-a1eb-f64d8e4a2bf8",
   "metadata": {},
   "source": [
    "### For this project I decided to use kaggle´s Indian Startup database due to its rawness and the feature engineering needed to make ML ready."
   ]
  },
  {
   "cell_type": "code",
   "execution_count": 198,
   "id": "cf94e713-a550-4fc8-8d72-c6a468e6f67f",
   "metadata": {},
   "outputs": [
    {
     "data": {
      "text/html": [
       "<div>\n",
       "<style scoped>\n",
       "    .dataframe tbody tr th:only-of-type {\n",
       "        vertical-align: middle;\n",
       "    }\n",
       "\n",
       "    .dataframe tbody tr th {\n",
       "        vertical-align: top;\n",
       "    }\n",
       "\n",
       "    .dataframe thead th {\n",
       "        text-align: right;\n",
       "    }\n",
       "</style>\n",
       "<table border=\"1\" class=\"dataframe\">\n",
       "  <thead>\n",
       "    <tr style=\"text-align: right;\">\n",
       "      <th></th>\n",
       "      <th>Sr No</th>\n",
       "      <th>Date dd/mm/yyyy</th>\n",
       "      <th>Startup Name</th>\n",
       "      <th>Industry Vertical</th>\n",
       "      <th>SubVertical</th>\n",
       "      <th>City  Location</th>\n",
       "      <th>Investors Name</th>\n",
       "      <th>InvestmentnType</th>\n",
       "      <th>Amount in USD</th>\n",
       "      <th>Remarks</th>\n",
       "    </tr>\n",
       "  </thead>\n",
       "  <tbody>\n",
       "    <tr>\n",
       "      <th>0</th>\n",
       "      <td>1</td>\n",
       "      <td>09/01/2020</td>\n",
       "      <td>BYJU’S</td>\n",
       "      <td>E-Tech</td>\n",
       "      <td>E-learning</td>\n",
       "      <td>Bengaluru</td>\n",
       "      <td>Tiger Global Management</td>\n",
       "      <td>Private Equity Round</td>\n",
       "      <td>20,00,00,000</td>\n",
       "      <td>NaN</td>\n",
       "    </tr>\n",
       "    <tr>\n",
       "      <th>1</th>\n",
       "      <td>2</td>\n",
       "      <td>13/01/2020</td>\n",
       "      <td>Shuttl</td>\n",
       "      <td>Transportation</td>\n",
       "      <td>App based shuttle service</td>\n",
       "      <td>Gurgaon</td>\n",
       "      <td>Susquehanna Growth Equity</td>\n",
       "      <td>Series C</td>\n",
       "      <td>80,48,394</td>\n",
       "      <td>NaN</td>\n",
       "    </tr>\n",
       "    <tr>\n",
       "      <th>2</th>\n",
       "      <td>3</td>\n",
       "      <td>09/01/2020</td>\n",
       "      <td>Mamaearth</td>\n",
       "      <td>E-commerce</td>\n",
       "      <td>Retailer of baby and toddler products</td>\n",
       "      <td>Bengaluru</td>\n",
       "      <td>Sequoia Capital India</td>\n",
       "      <td>Series B</td>\n",
       "      <td>1,83,58,860</td>\n",
       "      <td>NaN</td>\n",
       "    </tr>\n",
       "    <tr>\n",
       "      <th>3</th>\n",
       "      <td>4</td>\n",
       "      <td>02/01/2020</td>\n",
       "      <td>https://www.wealthbucket.in/</td>\n",
       "      <td>FinTech</td>\n",
       "      <td>Online Investment</td>\n",
       "      <td>New Delhi</td>\n",
       "      <td>Vinod Khatumal</td>\n",
       "      <td>Pre-series A</td>\n",
       "      <td>30,00,000</td>\n",
       "      <td>NaN</td>\n",
       "    </tr>\n",
       "    <tr>\n",
       "      <th>4</th>\n",
       "      <td>5</td>\n",
       "      <td>02/01/2020</td>\n",
       "      <td>Fashor</td>\n",
       "      <td>Fashion and Apparel</td>\n",
       "      <td>Embroiled Clothes For Women</td>\n",
       "      <td>Mumbai</td>\n",
       "      <td>Sprout Venture Partners</td>\n",
       "      <td>Seed Round</td>\n",
       "      <td>18,00,000</td>\n",
       "      <td>NaN</td>\n",
       "    </tr>\n",
       "  </tbody>\n",
       "</table>\n",
       "</div>"
      ],
      "text/plain": [
       "   Sr No Date dd/mm/yyyy                  Startup Name    Industry Vertical  \\\n",
       "0      1      09/01/2020                        BYJU’S               E-Tech   \n",
       "1      2      13/01/2020                        Shuttl       Transportation   \n",
       "2      3      09/01/2020                     Mamaearth           E-commerce   \n",
       "3      4      02/01/2020  https://www.wealthbucket.in/              FinTech   \n",
       "4      5      02/01/2020                        Fashor  Fashion and Apparel   \n",
       "\n",
       "                             SubVertical City  Location  \\\n",
       "0                             E-learning      Bengaluru   \n",
       "1              App based shuttle service        Gurgaon   \n",
       "2  Retailer of baby and toddler products      Bengaluru   \n",
       "3                      Online Investment      New Delhi   \n",
       "4            Embroiled Clothes For Women         Mumbai   \n",
       "\n",
       "              Investors Name       InvestmentnType Amount in USD Remarks  \n",
       "0    Tiger Global Management  Private Equity Round  20,00,00,000     NaN  \n",
       "1  Susquehanna Growth Equity              Series C     80,48,394     NaN  \n",
       "2      Sequoia Capital India              Series B   1,83,58,860     NaN  \n",
       "3             Vinod Khatumal          Pre-series A     30,00,000     NaN  \n",
       "4    Sprout Venture Partners            Seed Round     18,00,000     NaN  "
      ]
     },
     "execution_count": 198,
     "metadata": {},
     "output_type": "execute_result"
    }
   ],
   "source": [
    "df = pd.read_csv('indian_startup.csv')\n",
    "df.head()"
   ]
  },
  {
   "cell_type": "code",
   "execution_count": 199,
   "id": "8fb57801-9cda-4341-8a86-3ac433b17e2b",
   "metadata": {},
   "outputs": [
    {
     "data": {
      "text/plain": [
       "2931    Trinity Ventures, InterWest Partners, Mohr Dav...\n",
       "Name: Investors Name, dtype: object"
      ]
     },
     "execution_count": 199,
     "metadata": {},
     "output_type": "execute_result"
    }
   ],
   "source": [
    "df.loc[df['Investors Name'].str.contains('trinity', na=False, case=False), 'Investors Name']"
   ]
  },
  {
   "cell_type": "markdown",
   "id": "0d961617-9722-46c4-94aa-821956acd0f7",
   "metadata": {},
   "source": [
    "### With a size of 30444 rows, it gives a decent sample size for a regression ML model. Another thing to note is all the 'object' type columns."
   ]
  },
  {
   "cell_type": "code",
   "execution_count": 200,
   "id": "c494d413-9ab9-46a1-9934-85e857d30137",
   "metadata": {},
   "outputs": [
    {
     "name": "stdout",
     "output_type": "stream",
     "text": [
      "<class 'pandas.core.frame.DataFrame'>\n",
      "RangeIndex: 3044 entries, 0 to 3043\n",
      "Data columns (total 10 columns):\n",
      " #   Column             Non-Null Count  Dtype \n",
      "---  ------             --------------  ----- \n",
      " 0   Sr No              3044 non-null   int64 \n",
      " 1   Date dd/mm/yyyy    3044 non-null   object\n",
      " 2   Startup Name       3044 non-null   object\n",
      " 3   Industry Vertical  2873 non-null   object\n",
      " 4   SubVertical        2108 non-null   object\n",
      " 5   City  Location     2864 non-null   object\n",
      " 6   Investors Name     3020 non-null   object\n",
      " 7   InvestmentnType    3040 non-null   object\n",
      " 8   Amount in USD      2084 non-null   object\n",
      " 9   Remarks            419 non-null    object\n",
      "dtypes: int64(1), object(9)\n",
      "memory usage: 237.9+ KB\n"
     ]
    }
   ],
   "source": [
    "df.info()"
   ]
  },
  {
   "cell_type": "markdown",
   "id": "a6bd8ba6-7b7f-40b6-bd95-bed26ed145f9",
   "metadata": {},
   "source": [
    "### First thing I look for are the NAN percentages, I immediately spot a column that becomes useless for this project."
   ]
  },
  {
   "cell_type": "code",
   "execution_count": 201,
   "id": "13e1ee64-2a4b-46b2-ace7-96126171e8f2",
   "metadata": {},
   "outputs": [
    {
     "data": {
      "text/plain": [
       "Sr No                 0.000000\n",
       "Date dd/mm/yyyy       0.000000\n",
       "Startup Name          0.000000\n",
       "Industry Vertical     5.617608\n",
       "SubVertical          30.749014\n",
       "City  Location        5.913272\n",
       "Investors Name        0.788436\n",
       "InvestmentnType       0.131406\n",
       "Amount in USD        31.537451\n",
       "Remarks              86.235217\n",
       "dtype: float64"
      ]
     },
     "execution_count": 201,
     "metadata": {},
     "output_type": "execute_result"
    }
   ],
   "source": [
    "df.isna().sum() / len(df) * 100"
   ]
  },
  {
   "cell_type": "markdown",
   "id": "0216fd6e-732c-4f8c-a6e0-a5171142997c",
   "metadata": {},
   "source": [
    "### Since there is no way of filling NANs and due to the nature of the column, I decide to drop it."
   ]
  },
  {
   "cell_type": "code",
   "execution_count": 202,
   "id": "8f85e15f-e34a-46e6-a24e-39c1aec2a171",
   "metadata": {},
   "outputs": [],
   "source": [
    "df = df.drop(columns='Remarks')"
   ]
  },
  {
   "cell_type": "markdown",
   "id": "87130d69-d473-48b9-bb90-ffe7c0607634",
   "metadata": {},
   "source": [
    "### Next thing I notice is that the 'Amount' column is of 'object' type, so I look into which classes are mixed there."
   ]
  },
  {
   "cell_type": "code",
   "execution_count": 203,
   "id": "84e27937-7e8e-4dfc-bebc-89e719d09cb5",
   "metadata": {},
   "outputs": [
    {
     "data": {
      "text/plain": [
       "Amount in USD\n",
       "<class 'str'>      2084\n",
       "<class 'float'>     960\n",
       "Name: count, dtype: int64"
      ]
     },
     "execution_count": 203,
     "metadata": {},
     "output_type": "execute_result"
    }
   ],
   "source": [
    "df['Amount in USD'].apply(type).value_counts()"
   ]
  },
  {
   "cell_type": "markdown",
   "id": "ed14d56e-2dd4-4bd2-a29f-3e589538b196",
   "metadata": {},
   "source": [
    "### If we look into the column, we notice that the numbers are formatted the Indian way, so Python takes them as strings."
   ]
  },
  {
   "cell_type": "code",
   "execution_count": 204,
   "id": "ca298362-99e4-400f-acf3-b2c0e0a5621c",
   "metadata": {},
   "outputs": [
    {
     "data": {
      "text/plain": [
       "0    20,00,00,000\n",
       "1       80,48,394\n",
       "2     1,83,58,860\n",
       "3       30,00,000\n",
       "4       18,00,000\n",
       "5       90,00,000\n",
       "6    15,00,00,000\n",
       "7       60,00,000\n",
       "8     7,00,00,000\n",
       "9     5,00,00,000\n",
       "Name: Amount in USD, dtype: object"
      ]
     },
     "execution_count": 204,
     "metadata": {},
     "output_type": "execute_result"
    }
   ],
   "source": [
    "df['Amount in USD'].head(10)"
   ]
  },
  {
   "cell_type": "markdown",
   "id": "576b06d0-febe-4096-b9c9-1aeed327a9fa",
   "metadata": {},
   "source": [
    "### I decide to write a function that cleans the strings and converts them to float type."
   ]
  },
  {
   "cell_type": "code",
   "execution_count": 205,
   "id": "13aac0b3-7ea5-48bc-aab0-964dc12899e5",
   "metadata": {},
   "outputs": [],
   "source": [
    "def clean_amount(value):\n",
    "    if isinstance(value, str):\n",
    "        try:\n",
    "            return float(value.replace(',', ''))\n",
    "        except ValueError:\n",
    "            return np.nan\n",
    "    elif isinstance(value, (int, float)):\n",
    "        return value\n",
    "    else:\n",
    "        return np.nan\n",
    "    \n",
    "\n",
    "df['Amount in USD'] = df['Amount in USD'].apply(clean_amount)"
   ]
  },
  {
   "cell_type": "markdown",
   "id": "acc4e9fe-5fae-49cc-9111-c4396217a02e",
   "metadata": {},
   "source": [
    "### Here I hit one of the main stonewalls in this project, the SubVertital column is too inconsistent to be a feature, due to it being more of a 'business description' value rather than a categorical subvertical."
   ]
  },
  {
   "cell_type": "code",
   "execution_count": 206,
   "id": "62e60a46-0ceb-46b8-b354-c4102eb99d6b",
   "metadata": {},
   "outputs": [
    {
     "data": {
      "text/plain": [
       "0                                   E-learning\n",
       "1                    App based shuttle service\n",
       "2        Retailer of baby and toddler products\n",
       "3                            Online Investment\n",
       "4                  Embroiled Clothes For Women\n",
       "5     Open-market, freight management platform\n",
       "6                Online Food Delivery Platform\n",
       "7                                     Agritech\n",
       "8                                   Automobile\n",
       "9                      Satellite Communication\n",
       "10            Logistics Services and Solutions\n",
       "11                Food Solutions For Corporate\n",
       "12    Online Meat And Seafood Ordering Startup\n",
       "13               Non-Banking Financial Company\n",
       "14               Experience Discovery Platform\n",
       "15             Real money based gaming startup\n",
       "16              Online Eyewear Shopping Portal\n",
       "17      Business and customer engagement tools\n",
       "18             Men's Health and Wellness brand\n",
       "19                                   Elearning\n",
       "Name: SubVertical, dtype: object"
      ]
     },
     "execution_count": 206,
     "metadata": {},
     "output_type": "execute_result"
    }
   ],
   "source": [
    "df['SubVertical'].head(20)"
   ]
  },
  {
   "cell_type": "markdown",
   "id": "88c7b0c0-e5c7-487e-9251-7965eb9e0311",
   "metadata": {},
   "source": [
    "### That incosistency makes it so there are 1942 different values in a 3044 long database, 63,7% unique values. But there is potential here to create a valuable feature."
   ]
  },
  {
   "cell_type": "code",
   "execution_count": 207,
   "id": "a3a9dd14-c62d-45cd-b537-bfee349b6843",
   "metadata": {},
   "outputs": [
    {
     "data": {
      "text/plain": [
       "1942"
      ]
     },
     "execution_count": 207,
     "metadata": {},
     "output_type": "execute_result"
    }
   ],
   "source": [
    "df['SubVertical'].nunique()"
   ]
  },
  {
   "cell_type": "markdown",
   "id": "9a6fbac4-c8cf-4ccf-b0b3-ff7d19286f04",
   "metadata": {},
   "source": [
    "### What I decide to go for is to create a new column, which will be my feature, and fill it with 'X' to mark the uncategorized ones."
   ]
  },
  {
   "cell_type": "code",
   "execution_count": 208,
   "id": "fc67430a-8d31-42cb-8a5a-287df3ee6a12",
   "metadata": {},
   "outputs": [],
   "source": [
    "df['Sub-Vertical'] = 'X'"
   ]
  },
  {
   "cell_type": "markdown",
   "id": "6789bf7b-f96b-40ce-92b6-282c58e6a799",
   "metadata": {},
   "source": [
    "### To handle the NANs here, due to it being a SubVertical, I decide to fill in with the business´s Vertical. "
   ]
  },
  {
   "cell_type": "code",
   "execution_count": 209,
   "id": "ea36d879-a62f-4af7-89e6-f229824e0d3d",
   "metadata": {},
   "outputs": [],
   "source": [
    "df['SubVertical'] = df['SubVertical'].fillna(df['Industry Vertical'])"
   ]
  },
  {
   "cell_type": "markdown",
   "id": "c45a29ec-cdf0-4f49-93c3-5b9ff6f3891f",
   "metadata": {},
   "source": [
    "### And here comes the 'tedious' part, I´ll manually look at the database and recognize keywords and patterns so I can create my own subset of subverticals and recategorize the startups."
   ]
  },
  {
   "cell_type": "code",
   "execution_count": 210,
   "id": "e0f84b8a-c769-4af7-9ca5-0f25348971a7",
   "metadata": {},
   "outputs": [
    {
     "data": {
      "text/html": [
       "<div>\n",
       "<style scoped>\n",
       "    .dataframe tbody tr th:only-of-type {\n",
       "        vertical-align: middle;\n",
       "    }\n",
       "\n",
       "    .dataframe tbody tr th {\n",
       "        vertical-align: top;\n",
       "    }\n",
       "\n",
       "    .dataframe thead th {\n",
       "        text-align: right;\n",
       "    }\n",
       "</style>\n",
       "<table border=\"1\" class=\"dataframe\">\n",
       "  <thead>\n",
       "    <tr style=\"text-align: right;\">\n",
       "      <th></th>\n",
       "      <th>Industry Vertical</th>\n",
       "      <th>SubVertical</th>\n",
       "      <th>Sub-Vertical</th>\n",
       "    </tr>\n",
       "  </thead>\n",
       "  <tbody>\n",
       "    <tr>\n",
       "      <th>206</th>\n",
       "      <td>Consumer Internet</td>\n",
       "      <td>Subscription-Only News Website</td>\n",
       "      <td>X</td>\n",
       "    </tr>\n",
       "    <tr>\n",
       "      <th>616</th>\n",
       "      <td>Technology</td>\n",
       "      <td>Omni-channel web commerce solutions provider</td>\n",
       "      <td>X</td>\n",
       "    </tr>\n",
       "    <tr>\n",
       "      <th>785</th>\n",
       "      <td>Consumer Internet</td>\n",
       "      <td>Online Rummy playing Website</td>\n",
       "      <td>X</td>\n",
       "    </tr>\n",
       "    <tr>\n",
       "      <th>1142</th>\n",
       "      <td>Consumer Internet</td>\n",
       "      <td>Self-Branded Websites &amp; Apps for Ecommerce</td>\n",
       "      <td>X</td>\n",
       "    </tr>\n",
       "    <tr>\n",
       "      <th>1192</th>\n",
       "      <td>Technology</td>\n",
       "      <td>SaaS-based web optimisation and marketing plat...</td>\n",
       "      <td>X</td>\n",
       "    </tr>\n",
       "    <tr>\n",
       "      <th>1468</th>\n",
       "      <td>Consumer Internet</td>\n",
       "      <td>Wedding Website Creator</td>\n",
       "      <td>X</td>\n",
       "    </tr>\n",
       "    <tr>\n",
       "      <th>1477</th>\n",
       "      <td>Technology</td>\n",
       "      <td>Mobile App &amp; Web Development company</td>\n",
       "      <td>X</td>\n",
       "    </tr>\n",
       "    <tr>\n",
       "      <th>1612</th>\n",
       "      <td>Consumer Internet</td>\n",
       "      <td>Web/Mobile Music Streaming service</td>\n",
       "      <td>X</td>\n",
       "    </tr>\n",
       "    <tr>\n",
       "      <th>1679</th>\n",
       "      <td>Consumer Internet</td>\n",
       "      <td>Web Video Streaming Platform</td>\n",
       "      <td>X</td>\n",
       "    </tr>\n",
       "    <tr>\n",
       "      <th>1957</th>\n",
       "      <td>Consumer Internet</td>\n",
       "      <td>Dynamic Restaurant Website creator</td>\n",
       "      <td>X</td>\n",
       "    </tr>\n",
       "    <tr>\n",
       "      <th>2153</th>\n",
       "      <td>ECommerce Website Creation SAAS platform</td>\n",
       "      <td>ECommerce Website Creation SAAS platform</td>\n",
       "      <td>X</td>\n",
       "    </tr>\n",
       "    <tr>\n",
       "      <th>2246</th>\n",
       "      <td>Viral Content web Platform</td>\n",
       "      <td>Viral Content web Platform</td>\n",
       "      <td>X</td>\n",
       "    </tr>\n",
       "    <tr>\n",
       "      <th>2798</th>\n",
       "      <td>Parents focused Web Content</td>\n",
       "      <td>Parents focused Web Content</td>\n",
       "      <td>X</td>\n",
       "    </tr>\n",
       "    <tr>\n",
       "      <th>2811</th>\n",
       "      <td>Web Content Publishing</td>\n",
       "      <td>Web Content Publishing</td>\n",
       "      <td>X</td>\n",
       "    </tr>\n",
       "  </tbody>\n",
       "</table>\n",
       "</div>"
      ],
      "text/plain": [
       "                             Industry Vertical  \\\n",
       "206                          Consumer Internet   \n",
       "616                                 Technology   \n",
       "785                          Consumer Internet   \n",
       "1142                         Consumer Internet   \n",
       "1192                                Technology   \n",
       "1468                         Consumer Internet   \n",
       "1477                                Technology   \n",
       "1612                         Consumer Internet   \n",
       "1679                         Consumer Internet   \n",
       "1957                         Consumer Internet   \n",
       "2153  ECommerce Website Creation SAAS platform   \n",
       "2246                Viral Content web Platform   \n",
       "2798               Parents focused Web Content   \n",
       "2811                    Web Content Publishing   \n",
       "\n",
       "                                            SubVertical Sub-Vertical  \n",
       "206                      Subscription-Only News Website            X  \n",
       "616        Omni-channel web commerce solutions provider            X  \n",
       "785                        Online Rummy playing Website            X  \n",
       "1142         Self-Branded Websites & Apps for Ecommerce            X  \n",
       "1192  SaaS-based web optimisation and marketing plat...            X  \n",
       "1468                            Wedding Website Creator            X  \n",
       "1477               Mobile App & Web Development company            X  \n",
       "1612                 Web/Mobile Music Streaming service            X  \n",
       "1679                       Web Video Streaming Platform            X  \n",
       "1957                 Dynamic Restaurant Website creator            X  \n",
       "2153           ECommerce Website Creation SAAS platform            X  \n",
       "2246                         Viral Content web Platform            X  \n",
       "2798                        Parents focused Web Content            X  \n",
       "2811                             Web Content Publishing            X  "
      ]
     },
     "execution_count": 210,
     "metadata": {},
     "output_type": "execute_result"
    }
   ],
   "source": [
    "df.loc[(df['Sub-Vertical'] == 'X') & (df['SubVertical'].str.contains(r'web', regex=True, case=False, na=False)), ['Industry Vertical','SubVertical','Sub-Vertical']].tail(50)"
   ]
  },
  {
   "cell_type": "markdown",
   "id": "a9a89e83-f19a-488b-9753-2bfa0c802ac8",
   "metadata": {},
   "source": [
    "### After looking at the database, I noticed 2 scenarios:\n",
    "1. A set of keywords, in which case I filter by that subset of words and replace with the new category.\n",
    "2. Descriptions were there is no keyword, but the context itself gives away which category it falls into, in this case I manually recategorize each one using its index."
   ]
  },
  {
   "cell_type": "code",
   "execution_count": 211,
   "id": "62019979-cf41-4952-8485-63140c68d7ef",
   "metadata": {},
   "outputs": [],
   "source": [
    "def classify(rows, label):\n",
    "    df.loc[rows, 'Sub-Vertical'] = label\n",
    "\n",
    "df.loc[df['SubVertical'].str.contains('health|medic|doctor|clinic', case=False, na=False), 'Sub-Vertical'] = 'Health Related Services'\n",
    "classify([21,28,71,99,117,151,154,161,237,304,197], 'Health Related Services')\n",
    "\n",
    "df.loc[df['SubVertical'].str.contains('diagnos', case=False, na=False),'Sub-Vertical'] = 'Diagnostics & Medical Testing'\n",
    "\n",
    "df.loc[df['SubVertical'].str.contains('pharma', case=False, na=False), 'Sub-Vertical'] = 'Pharmacy'\n",
    "\n",
    "# Here I first filter by 'food' and label all of them as 'Food Related Services'.Then if they include 'food delivery' or other, I recategorize as 'Grocery / Food Delivery' \n",
    "df.loc[df['SubVertical'].str.contains('beverages|meat|food', case=False, na=False), 'Sub-Vertical'] = 'Food Related Services'\n",
    "classify([6,11,12,20,56,59,66,53,126,130,1856],'Food Related Services')\n",
    "df.loc[df['SubVertical'].str.contains('food delivery|food ordering|grocer', case=False, na=False), 'Sub-Vertical'] = 'Grocery / Food Delivery Services'\n",
    "classify([132,190,181,249,649], 'Grocery / Food Delivery Services')\n",
    "\n",
    "df.loc[df['SubVertical'].str.contains('car rent|carpool|bike rent|taxi|bicycle|drivers|online car| cab |cab ', case=False, na=False), 'Sub-Vertical'] = 'Transportation Rental Services'\n",
    "classify([1,26,29,64,60,87,89,110,133,172,183,247,2099,621,221,721],'Transportation Rental Services')\n",
    "\n",
    "df.loc[df['SubVertical'].str.contains(r'(?=.*\\belectric\\b)(?=.*\\bmanufacturer\\b)', regex=True, case=False, na=False), 'Sub-Vertical'] = 'Electric Vehicle Manufacturer'\n",
    "\n",
    "classify([8,44,46,50,61,94,116,134,147,205,724,1023,2102,679,1081,1258],'Automotive Related Services')\n",
    "\n",
    "classify([236,692,849,1165,1180,1196,1418,1492,1518,1877,1951], 'Doorstep Delivery Services')\n",
    "\n",
    "df.loc[df['SubVertical'].str.contains('logistic|supply chain|truck', case=False, na=False), 'Sub-Vertical'] = 'Logistic & Supply Chain Related Services'\n",
    "classify([5,10,32,45,69,92,112,11,145,111,152,149,150,253], 'Logistic & Supply Chain Related Services')\n",
    "\n",
    "df.loc[df['SubVertical'].str.contains('healthc|medic|doctor|clinic', case=False, na=False), 'Sub-Vertical'] = 'Health Related Services'\n",
    "classify([21,28,71,99,117,151,154,161,237,304,197], 'Health Related Services')\n",
    "\n",
    "df.loc[df['SubVertical'].str.contains('diagnos', case=False, na=False),'Sub-Vertical'] = 'Diagnostics & Medical Testing'\n",
    "\n",
    "df.loc[df['SubVertical'].str.contains('pharma', case=False, na=False), 'Sub-Vertical'] = 'Pharmacy'\n",
    "\n",
    "df.loc[df['SubVertical'].str.contains('fitness|wellness| spa |lifestyle', case=False, na=False), 'Sub-Vertical'] = 'Fitness & Wellness Related Services'\n",
    "classify([18,42,93,34,102,136,222,224,2098], 'Fitness & Wellness Related Services')\n",
    "\n",
    "df.loc[df['SubVertical'].str.contains('baby', case=False, na=False), 'Sub-Vertical'] = 'Baby Supplies'\n",
    "classify([2,159], 'Baby Supplies')\n",
    "\n",
    "df.loc[df['SubVertical'].str.contains('fashion', case=False, na=False), 'Sub-Vertical'] = 'Fashion Retail'\n",
    "classify([4,72,91,105,113,144,1599], 'Fashion Retail')\n",
    "\n",
    "df.loc[df['SubVertical'].str.contains('eyewear', case=False, na=False), 'Sub-Vertical'] = 'Eyewear Retail'\n",
    "classify([16], 'Eyewear Retail')\n",
    "\n",
    "df.loc[df['SubVertical'].str.contains(r'(?=.*\\blearning\\b)(?=.*\\bplatform\\b)', regex=True, case=False, na=False), 'Sub-Vertical'] = 'E-learning'\n",
    "df.loc[df['SubVertical'].str.contains(r'(?=.*\\blearning\\b)(?=.*\\bapp\\b)', regex=True, case=False, na=False), 'Sub-Vertical'] = 'E-learning'\n",
    "df.loc[df['SubVertical'].str.contains(r'(?=.*\\bkids\\b)(?=.*\\blearning\\b)', regex=True, case=False, na=False), 'Sub-Vertical'] = 'E-learning'\n",
    "df.loc[df['SubVertical'].str.contains('online certi', regex=True, case=False, na=False), 'Sub-Vertical'] = 'E-Learning'\n",
    "classify([0,19,73,104,106,122,174,255,285,2024,2019,2010,2007,1916,1880,1868,1801,1756,1696,1601,1540,1469,1139,1005,983,920,634,483,479,441,371,370,290,285,2000], 'E-learning')\n",
    "\n",
    "df.loc[df['SubVertical'].str.contains('tutor|coach', regex=True, case=False, na=False), 'Sub-Vertical'] = 'Coach & Tutoring Services'\n",
    "\n",
    "df.loc[df['SubVertical'].str.contains('education|ed-tech|school|skill', regex=True, case=False, na=False), 'Sub-Vertical'] = 'Education'\n",
    "classify([30,38,67,137,57,2064,2028,1827,1682,854,418,412,406,384,269,2020,316], 'Education')\n",
    "\n",
    "df.loc[df['SubVertical'].str.contains('game|gaming', case=False, na=False), 'Sub-Vertical'] = 'Gaming'\n",
    "classify([15,24,129,158], 'Gaming')\n",
    "\n",
    "df.loc[df['SubVertical'].str.contains('agri-|agriculture|farmer', case=False, na=False), 'Sub-Vertical'] = 'Agritech'\n",
    "classify([7,22,81,95,591], 'Agritech')\n",
    "\n",
    "df.loc[df['SubVertical'].str.contains('artificial int', case=False, regex=True, na=False), 'Sub-Vertical'] = 'AI Related'\n",
    "df.loc[df['SubVertical'].str.contains(r'\\bAI\\b', case=False, regex=True, na=False), 'Sub-Vertical'] = 'AI Related'\n",
    "classify([80,65,51,141,157,177,178,182,189,254], 'AI Related')\n",
    "\n",
    "df.loc[df['SubVertical'].str.contains('wealth|invest|stock', case=False, na=False), 'Sub-Vertical'] = 'Investment/Wealth Management'\n",
    "classify([98,55,47,3,188,220,250,246,238], 'Investment/Wealth Management')\n",
    "\n",
    "df.loc[df['SubVertical'].str.contains('lending|loan|financ|payment|wallet', case=False, na=False), 'Sub-Vertical'] = 'Banking/Payments/Financial Services'\n",
    "classify([78,77,103,86,109,85,13,23,54,31,35,36,162,163,173,175,165,184,225,251,257,1526,1296,495,698,1210,1903,2147], 'Banking/Payments/Financial Services')\n",
    "classify([118,127,138,142,223,230,215,841,798,819], 'Non Banking Financial Services')\n",
    "\n",
    "df.loc[df['SubVertical'].str.contains('ecommerce', case=False, na=False), 'Sub-Vertical'] = 'Ecommerce'\n",
    "classify([131,128,124,123,49,96,27,169,176,191], 'Ecommerce')\n",
    "\n",
    "df.loc[df['SubVertical'].str.contains('property|real estate', case=False, na=False), 'Sub-Vertical'] = 'Real Estate'\n",
    "classify([125,74], 'Real Estate')\n",
    "\n",
    "df.loc[df['SubVertical'].str.contains('travel|hotel', case=False, na=False), 'Sub-Vertical'] = 'Travel Related Services'\n",
    "classify([155,121,101,170,219], 'Travel Related Services')\n",
    "classify([146,97,75,2008,1316], 'Wine & Beer')\n",
    "\n",
    "df.loc[df['SubVertical'].str.contains('marketing', case=False, na=False), 'Sub-Vertical'] = 'Marketing'\n",
    "classify([107,37,], 'Marketing')\n",
    "\n",
    "df.loc[df['SubVertical'].str.contains('robotic', case=False, na=False), 'Sub-Vertical'] = 'Robotics'\n",
    "\n",
    "df.loc[df['SubVertical'].str.contains('video', case=False, na=False), 'Sub-Vertical'] = 'Video Content & Streaming Platforms'\n",
    "\n",
    "df.loc[df['SubVertical'].str.contains('insurance', case=False, na=False), 'Sub-Vertical'] = 'Insurance / InsurTech'\n",
    "\n",
    "df.loc[df['SubVertical'].str.contains('communic', case=False, na=False), 'Sub-Vertical'] = 'Communication Platforms'\n",
    "\n",
    "df.loc[df['SubVertical'].str.contains('media|news|entertainment', case=False, na=False), 'Sub-Vertical'] = 'Digital Media / Content'\n",
    "\n",
    "df.loc[df['SubVertical'].str.contains('SaaS|Software', case=False, na=False),'Sub-Vertical'] = 'Software / SaaS'\n",
    "\n",
    "df.loc[df['SubVertical'].str.contains('data analy|analy|data', case=False, na=False),'Sub-Vertical'] = 'Data Science/Analytics'\n",
    "\n",
    "df.loc[df['SubVertical'].str.contains('spaces', case=False, na=False),'Sub-Vertical'] = 'Co-Working & Co-Living Spaces'\n",
    "\n",
    "df.loc[df['SubVertical'].str.contains('career|job', case=False, na=False),'Sub-Vertical'] = 'Career & Recruitment Services'\n",
    "\n",
    "df.loc[df['SubVertical'].str.contains('fund', case=False, na=False),'Sub-Vertical'] = 'Crowdfunding / Fundraising Platforms'\n",
    "\n",
    "df.loc[df['SubVertical'].str.contains('matchm|dating', case=False, na=False),'Sub-Vertical'] = 'Dating Platforms'\n",
    "\n",
    "df.loc[df['SubVertical'].str.contains('home', case=False, na=False),'Sub-Vertical'] = 'Home Related Services'\n",
    "\n",
    "df.loc[df['SubVertical'].str.contains('cybersecurity|cyber security|security', case=False, na=False),'Sub-Vertical'] = 'Cybersecurity'\n",
    "\n",
    "df.loc[df['SubVertical'].str.contains('tea |herbal', case=False, na=False),'Sub-Vertical'] = 'Tea Sales'\n",
    "\n",
    "df.loc[df['SubVertical'].str.contains('social network', case=False, na=False),'Sub-Vertical'] = 'Social Networks'\n",
    "\n",
    "df.loc[df['SubVertical'].str.contains('beauty', case=False, na=False),'Sub-Vertical'] = 'Beauty Related Services'\n",
    "\n",
    "df.loc[df['SubVertical'].str.contains('waste|recycl', case=False, na=False),'Sub-Vertical'] = 'Waste/Recycling Related Services'\n",
    "\n",
    "df.loc[df['SubVertical'].str.contains('business', case=False, na=False),'Sub-Vertical'] = 'Business Development'\n",
    "\n",
    "df.loc[df['SubVertical'].str.contains('restaurant', case=False, na=False),'Sub-Vertical'] = 'Restaurant Tech & Services'\n",
    "\n",
    "df.loc[df['SubVertical'].str.contains('pet', case=False, na=False),'Sub-Vertical'] = 'Pet Related Services'\n",
    "\n",
    "df.loc[df['SubVertical'].str.contains('customer|b2c', case=False, na=False),'Sub-Vertical'] = 'Customer Support/Engagement'\n",
    "\n",
    "df.loc[df['SubVertical'].str.contains(r'(?=.*\\bonline\\b)(?=.*\\bfurniture\\b)', regex=True, case=False, na=False),'Sub-Vertical'] = 'Furniture Retail & Rent'\n",
    "\n",
    "df.loc[df['SubVertical'].str.contains('app dev', case=False, na=False),'Sub-Vertical'] = 'App Development' # esta categoria se puede ampliar\n",
    "\n",
    "df.loc[df['SubVertical'].str.contains('solar|energy', case=False, na=False),'Sub-Vertical'] = 'Energy'\n",
    "\n",
    "df.loc[df['SubVertical'].str.contains('cleani', case=False, na=False),'Sub-Vertical'] = 'Cleaning Services'\n",
    "\n",
    "df.loc[df['SubVertical'].str.contains('hyperlocal|handyman', case=False, na=False),'Sub-Vertical'] = 'Hyperlocal Services'\n",
    "\n",
    "df.loc[df['SubVertical'].str.contains('jewel', case=False, na=False),'Sub-Vertical'] = 'Jewellery'\n",
    "# e books"
   ]
  },
  {
   "cell_type": "markdown",
   "id": "fdd51bf7-9bf0-4697-b8cb-55a1d08d7fc7",
   "metadata": {},
   "source": [
    "### To help visualize progress, I created a percentage and rows counter."
   ]
  },
  {
   "cell_type": "code",
   "execution_count": 212,
   "id": "61da0a0e-10cb-4da2-9380-66efb5c4c43f",
   "metadata": {},
   "outputs": [],
   "source": [
    "# USE THIS CELL ONLY FOR PARTIAL RUNS!!!\n",
    "df.loc[df['Sub-Vertical'] == 'X', 'Sub-Vertical'] = df['SubVertical']"
   ]
  },
  {
   "cell_type": "code",
   "execution_count": 213,
   "id": "110f3109-4590-4aa5-b323-fcd66b28f405",
   "metadata": {},
   "outputs": [
    {
     "name": "stdout",
     "output_type": "stream",
     "text": [
      "100.0% done\n",
      "3044 rows done\n"
     ]
    }
   ],
   "source": [
    "progress = (df['Sub-Vertical'] != 'X').mean() * 100\n",
    "rows = (df['Sub-Vertical'] != 'X').sum()\n",
    "\n",
    "print(f\"{progress:.1f}% done\")\n",
    "print(f'{rows} rows done')"
   ]
  },
  {
   "cell_type": "markdown",
   "id": "566abf2a-928a-49cc-a4d4-a1747b871ef0",
   "metadata": {},
   "source": [
    "### Next, I plan to do the same with the Vertical column, but due to it having way clearer categories, I´ll wait until after running the model and seeing the scores."
   ]
  },
  {
   "cell_type": "code",
   "execution_count": 214,
   "id": "ecea2dd0-1320-4650-94c4-0c7066d61143",
   "metadata": {},
   "outputs": [
    {
     "data": {
      "text/plain": [
       "Industry Vertical\n",
       "Consumer Internet             941\n",
       "Technology                    478\n",
       "eCommerce                     186\n",
       "Healthcare                     70\n",
       "Finance                        62\n",
       "                             ... \n",
       "Startup Analytics platform      1\n",
       "Mobile Food Ordering app        1\n",
       "Financial Markets Software      1\n",
       "Hiring Analytics platform       1\n",
       "Flat rental Mobile App          1\n",
       "Name: count, Length: 821, dtype: int64"
      ]
     },
     "execution_count": 214,
     "metadata": {},
     "output_type": "execute_result"
    }
   ],
   "source": [
    "df['Industry Vertical'].value_counts()"
   ]
  },
  {
   "cell_type": "markdown",
   "id": "228d854d-cf60-4fdc-814a-a9e48ed1d0df",
   "metadata": {},
   "source": [
    "### The other main wall I hit is the 'Investor Name' column. This column is a set of strings written in inconsistent form, mentioning the investors.\n",
    "### 2 problems here:\n",
    "1. The name of the investors is written differently (letter cases, spelling, spaced, separation symbols).\n",
    "2. It is not a list, so each row is a string and we cant access the investors so the model can learn information about them."
   ]
  },
  {
   "cell_type": "code",
   "execution_count": 215,
   "id": "944a4837-57ea-488e-98ef-63cf6aee02c2",
   "metadata": {},
   "outputs": [
    {
     "data": {
      "text/plain": [
       "Investors Name\n",
       "Undisclosed Investors                                                                                                                                             39\n",
       "Undisclosed investors                                                                                                                                             30\n",
       "Ratan Tata                                                                                                                                                        25\n",
       "Indian Angel Network                                                                                                                                              23\n",
       "Kalaari Capital                                                                                                                                                   16\n",
       "                                                                                                                                                                  ..\n",
       "Shell Foundation, DILA CAPITAL, Engie RDE Fund, EcoEnterprise Fund, EDFIMC (ElectriFI), Endeavor Catalyst Fund, CoCapital, Triodos, Alpha Mundi, and Lendahand     1\n",
       "Altimeter Capital, Sutter Hill Ventures                                                                                                                            1\n",
       "Startup Buddy                                                                                                                                                      1\n",
       "Amour Infrastructure                                                                                                                                               1\n",
       "Ackermans & van Haaren, HealthQuad, Rebright Partners, Toppan Printing                                                                                             1\n",
       "Name: count, Length: 2412, dtype: int64"
      ]
     },
     "execution_count": 215,
     "metadata": {},
     "output_type": "execute_result"
    }
   ],
   "source": [
    "df['Investors Name'].value_counts()"
   ]
  },
  {
   "cell_type": "code",
   "execution_count": 216,
   "id": "bbbcd7b1-967a-4f66-9341-a153abcab13d",
   "metadata": {},
   "outputs": [
    {
     "data": {
      "text/plain": [
       "2412"
      ]
     },
     "execution_count": 216,
     "metadata": {},
     "output_type": "execute_result"
    }
   ],
   "source": [
    "df['Investors Name'].nunique()"
   ]
  },
  {
   "cell_type": "markdown",
   "id": "fc6176bb-fa2a-4f04-b8f8-1c5f6c4df96f",
   "metadata": {},
   "source": [
    "### To get a clean set of investors I go with 3 steps:\n",
    "1. Clean and standarize the strings so I can turn them into lists.\n",
    "2. Remove redudants words like 'Capital' or 'India' that may mislead fuzzywuzzy when mapping the values.\n",
    "3. Use fuzzywuzzy´s toke_set_ratio to get the list of unique investors and then map them."
   ]
  },
  {
   "cell_type": "code",
   "execution_count": 217,
   "id": "b03c1adb-6d92-4012-9ca9-8f242fa1cf79",
   "metadata": {},
   "outputs": [],
   "source": [
    "# group|limited|ltd|inc|corp|corporation|company|co|management|"
   ]
  },
  {
   "cell_type": "code",
   "execution_count": 218,
   "id": "afd88f36-1918-4571-b83c-b1c00d80a81c",
   "metadata": {},
   "outputs": [],
   "source": [
    "df['Investors Name'] = df['Investors Name'].fillna('Undisclosed')\n",
    "\n",
    "redundant_words = r'\\b(india|capital|partners?|ventures?|holdings?|advisors?)\\b'\n",
    "\n",
    "df['Investors List'] = df['Investors Name'].str.lower().str.replace(' and ',' , ').str.replace(' & ',' , ').str.replace(redundant_words,'', regex=True).str.split(',').apply(lambda x: [i.strip() for i in x])"
   ]
  },
  {
   "cell_type": "code",
   "execution_count": 141,
   "id": "36d98a15-422a-470b-8d5f-08cda8f69ed7",
   "metadata": {},
   "outputs": [],
   "source": [
    "all_investors = set([i for sublist in df['Investors List'] for i in sublist])\n",
    "\n",
    "canonical_names = {}\n",
    "for inv in all_investors:\n",
    "    if canonical_names:  \n",
    "        result = process.extractOne(inv, canonical_names.keys(), scorer=fuzz.token_set_ratio)\n",
    "        if result:  \n",
    "            match, score = result\n",
    "            if score >= 70:\n",
    "                canonical_names[inv] = match\n",
    "            else:\n",
    "                canonical_names[inv] = inv\n",
    "        else:  \n",
    "            canonical_names[inv] = inv\n",
    "    else:\n",
    "        canonical_names[inv] = inv  \n"
   ]
  },
  {
   "cell_type": "markdown",
   "id": "4b3a8166-3c08-4987-94ff-953a3ff94301",
   "metadata": {},
   "source": [
    "### After using fuzzywuzzy I take a look into the results to see if it is good enough for mapping the database."
   ]
  },
  {
   "cell_type": "code",
   "execution_count": 219,
   "id": "4899c0ea-b643-404b-90df-b8d99cfe9d21",
   "metadata": {},
   "outputs": [
    {
     "data": {
      "text/html": [
       "<div>\n",
       "<style scoped>\n",
       "    .dataframe tbody tr th:only-of-type {\n",
       "        vertical-align: middle;\n",
       "    }\n",
       "\n",
       "    .dataframe tbody tr th {\n",
       "        vertical-align: top;\n",
       "    }\n",
       "\n",
       "    .dataframe thead th {\n",
       "        text-align: right;\n",
       "    }\n",
       "</style>\n",
       "<table border=\"1\" class=\"dataframe\">\n",
       "  <thead>\n",
       "    <tr style=\"text-align: right;\">\n",
       "      <th></th>\n",
       "      <th>name</th>\n",
       "      <th>canon</th>\n",
       "    </tr>\n",
       "  </thead>\n",
       "  <tbody>\n",
       "    <tr>\n",
       "      <th>0</th>\n",
       "      <td></td>\n",
       "      <td></td>\n",
       "    </tr>\n",
       "  </tbody>\n",
       "</table>\n",
       "</div>"
      ],
      "text/plain": [
       "  name canon\n",
       "0           "
      ]
     },
     "execution_count": 219,
     "metadata": {},
     "output_type": "execute_result"
    }
   ],
   "source": [
    "df1 = pd.DataFrame(canonical_names.items(), columns=['name','canon'])\n",
    "df1[df1['canon'] == ''] # The '' represents a fund composed by only redundant words: the 'India Capital', so this mapping correclty identifies it."
   ]
  },
  {
   "cell_type": "markdown",
   "id": "6099c471-2034-4c82-a648-5a5e27926fe0",
   "metadata": {},
   "source": [
    "### After looking at fuzzywuzzy´s result dictionary and being ok with it, I proceed to map the database´s values and running a value_counts to see the distribution."
   ]
  },
  {
   "cell_type": "code",
   "execution_count": 220,
   "id": "473653b9-db91-4102-895d-e730a5029a38",
   "metadata": {},
   "outputs": [
    {
     "data": {
      "text/html": [
       "<div>\n",
       "<style scoped>\n",
       "    .dataframe tbody tr th:only-of-type {\n",
       "        vertical-align: middle;\n",
       "    }\n",
       "\n",
       "    .dataframe tbody tr th {\n",
       "        vertical-align: top;\n",
       "    }\n",
       "\n",
       "    .dataframe thead th {\n",
       "        text-align: right;\n",
       "    }\n",
       "</style>\n",
       "<table border=\"1\" class=\"dataframe\">\n",
       "  <thead>\n",
       "    <tr style=\"text-align: right;\">\n",
       "      <th></th>\n",
       "      <th>Investor</th>\n",
       "      <th>Count</th>\n",
       "    </tr>\n",
       "  </thead>\n",
       "  <tbody>\n",
       "    <tr>\n",
       "      <th>28</th>\n",
       "      <td>others from letsventure</td>\n",
       "      <td>211</td>\n",
       "    </tr>\n",
       "    <tr>\n",
       "      <th>18</th>\n",
       "      <td>undisclosed existing investors as well as the ...</td>\n",
       "      <td>133</td>\n",
       "    </tr>\n",
       "    <tr>\n",
       "      <th>2</th>\n",
       "      <td>sequoia .</td>\n",
       "      <td>123</td>\n",
       "    </tr>\n",
       "    <tr>\n",
       "      <th>24</th>\n",
       "      <td>accel (formerly known as accel )</td>\n",
       "      <td>94</td>\n",
       "    </tr>\n",
       "    <tr>\n",
       "      <th>107</th>\n",
       "      <td></td>\n",
       "      <td>79</td>\n",
       "    </tr>\n",
       "    <tr>\n",
       "      <th>...</th>\n",
       "      <td>...</td>\n",
       "      <td>...</td>\n",
       "    </tr>\n",
       "    <tr>\n",
       "      <th>1761</th>\n",
       "      <td>trinity</td>\n",
       "      <td>1</td>\n",
       "    </tr>\n",
       "    <tr>\n",
       "      <th>1760</th>\n",
       "      <td>tano</td>\n",
       "      <td>1</td>\n",
       "    </tr>\n",
       "    <tr>\n",
       "      <th>14</th>\n",
       "      <td>nptk</td>\n",
       "      <td>1</td>\n",
       "    </tr>\n",
       "    <tr>\n",
       "      <th>10</th>\n",
       "      <td>ravikanth reddy</td>\n",
       "      <td>1</td>\n",
       "    </tr>\n",
       "    <tr>\n",
       "      <th>7</th>\n",
       "      <td>sathguru catalyzer</td>\n",
       "      <td>1</td>\n",
       "    </tr>\n",
       "  </tbody>\n",
       "</table>\n",
       "<p>1789 rows × 2 columns</p>\n",
       "</div>"
      ],
      "text/plain": [
       "                                               Investor  Count\n",
       "28                              others from letsventure    211\n",
       "18    undisclosed existing investors as well as the ...    133\n",
       "2                                             sequoia .    123\n",
       "24                     accel (formerly known as accel )     94\n",
       "107                                                         79\n",
       "...                                                 ...    ...\n",
       "1761                                            trinity      1\n",
       "1760                                               tano      1\n",
       "14                                                 nptk      1\n",
       "10                                      ravikanth reddy      1\n",
       "7                                    sathguru catalyzer      1\n",
       "\n",
       "[1789 rows x 2 columns]"
      ]
     },
     "execution_count": 220,
     "metadata": {},
     "output_type": "execute_result"
    }
   ],
   "source": [
    "df['Investors List'] = df['Investors List'].apply(lambda lst: [canonical_names[i] for i in lst])\n",
    "\n",
    "investors = [inv for sublist in df['Investors List'] for inv in sublist]\n",
    "counts = Counter(investors)\n",
    "pd.DataFrame(counts.items(), columns=['Investor','Count']).sort_values('Count', ascending=False)"
   ]
  },
  {
   "cell_type": "markdown",
   "id": "51e6eead-4ff3-473a-a745-a11b7246a30c",
   "metadata": {},
   "source": [
    "### In order to not overload the features and flood the model with a high number of dummies, I take the main investors and map the rest as 'Rare'."
   ]
  },
  {
   "cell_type": "code",
   "execution_count": 234,
   "id": "4166d8d3-073f-4f79-b06a-9899f801f752",
   "metadata": {},
   "outputs": [
    {
     "data": {
      "text/plain": [
       "others from letsventure                                                211\n",
       "undisclosed existing investors as well as the tamarind family trust    133\n",
       "sequoia .                                                              123\n",
       "accel (formerly known as accel )                                        94\n",
       "                                                                        79\n",
       "                                                                      ... \n",
       "entrepreneurship (ciie)                                                  7\n",
       "hero enterprise                                                          7\n",
       "sunil goyal ashish gupta                                                 7\n",
       "multiple investors                                                       7\n",
       "iifl                                                                     7\n",
       "Length: 178, dtype: int64"
      ]
     },
     "execution_count": 234,
     "metadata": {},
     "output_type": "execute_result"
    }
   ],
   "source": [
    "counts_s = pd.Series(counts).sort_values(ascending=False)\n",
    "counts_s[counts_s > 5]"
   ]
  },
  {
   "cell_type": "code",
   "execution_count": 235,
   "id": "5174a196-b4b5-420c-ae23-8b4750a2643e",
   "metadata": {},
   "outputs": [],
   "source": [
    "main_investors = counts_s[counts_s > 4]\n",
    "\n",
    "df['Investors List'] = df['Investors List'].apply(lambda inv_list: [inv if inv in main_investors else 'Rare' for inv in inv_list])"
   ]
  },
  {
   "cell_type": "code",
   "execution_count": 236,
   "id": "1d8a21a7-fa51-4227-b4b2-b04dc7ada66f",
   "metadata": {},
   "outputs": [
    {
     "data": {
      "text/html": [
       "<div>\n",
       "<style scoped>\n",
       "    .dataframe tbody tr th:only-of-type {\n",
       "        vertical-align: middle;\n",
       "    }\n",
       "\n",
       "    .dataframe tbody tr th {\n",
       "        vertical-align: top;\n",
       "    }\n",
       "\n",
       "    .dataframe thead th {\n",
       "        text-align: right;\n",
       "    }\n",
       "</style>\n",
       "<table border=\"1\" class=\"dataframe\">\n",
       "  <thead>\n",
       "    <tr style=\"text-align: right;\">\n",
       "      <th></th>\n",
       "      <th>Investor</th>\n",
       "      <th>Count</th>\n",
       "    </tr>\n",
       "  </thead>\n",
       "  <tbody>\n",
       "    <tr>\n",
       "      <th>1</th>\n",
       "      <td>Rare</td>\n",
       "      <td>1494</td>\n",
       "    </tr>\n",
       "    <tr>\n",
       "      <th>17</th>\n",
       "      <td>others from letsventure</td>\n",
       "      <td>130</td>\n",
       "    </tr>\n",
       "    <tr>\n",
       "      <th>2</th>\n",
       "      <td>sequoia .</td>\n",
       "      <td>105</td>\n",
       "    </tr>\n",
       "    <tr>\n",
       "      <th>11</th>\n",
       "      <td>undisclosed existing investors as well as the ...</td>\n",
       "      <td>101</td>\n",
       "    </tr>\n",
       "    <tr>\n",
       "      <th>15</th>\n",
       "      <td>accel (formerly known as accel )</td>\n",
       "      <td>78</td>\n",
       "    </tr>\n",
       "    <tr>\n",
       "      <th>...</th>\n",
       "      <td>...</td>\n",
       "      <td>...</td>\n",
       "    </tr>\n",
       "    <tr>\n",
       "      <th>230</th>\n",
       "      <td>rajeev arora</td>\n",
       "      <td>1</td>\n",
       "    </tr>\n",
       "    <tr>\n",
       "      <th>239</th>\n",
       "      <td>kamal kothari</td>\n",
       "      <td>1</td>\n",
       "    </tr>\n",
       "    <tr>\n",
       "      <th>256</th>\n",
       "      <td>micromax</td>\n",
       "      <td>1</td>\n",
       "    </tr>\n",
       "    <tr>\n",
       "      <th>264</th>\n",
       "      <td>anurag gupta</td>\n",
       "      <td>1</td>\n",
       "    </tr>\n",
       "    <tr>\n",
       "      <th>269</th>\n",
       "      <td>lead angels group</td>\n",
       "      <td>1</td>\n",
       "    </tr>\n",
       "  </tbody>\n",
       "</table>\n",
       "<p>270 rows × 2 columns</p>\n",
       "</div>"
      ],
      "text/plain": [
       "                                              Investor  Count\n",
       "1                                                 Rare   1494\n",
       "17                             others from letsventure    130\n",
       "2                                            sequoia .    105\n",
       "11   undisclosed existing investors as well as the ...    101\n",
       "15                    accel (formerly known as accel )     78\n",
       "..                                                 ...    ...\n",
       "230                                       rajeev arora      1\n",
       "239                                      kamal kothari      1\n",
       "256                                           micromax      1\n",
       "264                                       anurag gupta      1\n",
       "269                                  lead angels group      1\n",
       "\n",
       "[270 rows x 2 columns]"
      ]
     },
     "execution_count": 236,
     "metadata": {},
     "output_type": "execute_result"
    }
   ],
   "source": [
    "investors = [inv for sublist in df['Investors List'] for inv in sublist]\n",
    "new_counts = Counter(investors)\n",
    "pd.DataFrame(new_counts.items(), columns=['Investor','Count']).sort_values('Count', ascending=False)"
   ]
  },
  {
   "cell_type": "markdown",
   "id": "cc43d5f3-9a0a-45ea-8f79-7908308f5fb0",
   "metadata": {},
   "source": [
    "### Since models cannot read lists, I use a MultiLabelBinarizer to include the investor dummies in the main df."
   ]
  },
  {
   "cell_type": "code",
   "execution_count": 237,
   "id": "7f443ff7-bae9-43ac-a0f5-aa56293afa83",
   "metadata": {},
   "outputs": [],
   "source": [
    "mlb = MultiLabelBinarizer()\n",
    "\n",
    "investor_dummies = mlb.fit_transform(df['Investors List'])\n",
    "\n",
    "investor_columns = pd.DataFrame(investor_dummies, columns=mlb.classes_, index=df.index)\n",
    "\n",
    "df = pd.concat([df, investor_columns], axis=1)\n"
   ]
  },
  {
   "cell_type": "markdown",
   "id": "3fdbc17d-643f-49ec-be37-d7ef80bf1e4e",
   "metadata": {},
   "source": [
    "### Since the signal given by a startup having more then one 'Rare' investor is lost in the dummies, I decided to create a 'Rare' investor count feature."
   ]
  },
  {
   "cell_type": "code",
   "execution_count": 238,
   "id": "26712c83-aba1-4489-bb8f-40d301220572",
   "metadata": {},
   "outputs": [],
   "source": [
    "df['Rare Investor Count'] = df['Investors List'].apply(lambda inv_list: sum(1 for inv in inv_list if inv not in main_investors))"
   ]
  },
  {
   "cell_type": "markdown",
   "id": "1fa9266e-83fb-491f-85d4-80dbe3707186",
   "metadata": {},
   "source": [
    "### FInally, I drop NANs before creating my testing and training sets."
   ]
  },
  {
   "cell_type": "code",
   "execution_count": 239,
   "id": "8e06d8a8-e2a3-4747-8db6-4bc78e19e1fd",
   "metadata": {},
   "outputs": [],
   "source": [
    "df = df.dropna()"
   ]
  },
  {
   "cell_type": "code",
   "execution_count": 240,
   "id": "fd177535-76f1-45ba-877d-39028e205998",
   "metadata": {},
   "outputs": [
    {
     "data": {
      "text/plain": [
       "Sr No                            0.0\n",
       "Date dd/mm/yyyy                  0.0\n",
       "Startup Name                     0.0\n",
       "Industry Vertical                0.0\n",
       "SubVertical                      0.0\n",
       "                                ... \n",
       "y combinator                     0.0\n",
       "yournest angel fund\\\\xc2\\\\xa0    0.0\n",
       "youwecan                         0.0\n",
       "zeeshan hayat                    0.0\n",
       "zodius                           0.0\n",
       "Length: 558, dtype: float64"
      ]
     },
     "execution_count": 240,
     "metadata": {},
     "output_type": "execute_result"
    }
   ],
   "source": [
    "df.isna().sum() / len(df) * 100"
   ]
  },
  {
   "cell_type": "markdown",
   "id": "420e6df4-d2d3-4663-b95c-de3cb9961798",
   "metadata": {},
   "source": [
    "### For this regression project, our sets are as follows:\n",
    "1. Features: Industry Vertical, Industry SubVertical, Investors, Number of Investors, Investing type and Location.\n",
    "2. Target: Amount of USD invested in the startup."
   ]
  },
  {
   "cell_type": "code",
   "execution_count": 241,
   "id": "de616e1d-8885-405c-90c0-5e83580d95f1",
   "metadata": {},
   "outputs": [
    {
     "data": {
      "text/plain": [
       "Index(['Sr No', 'Date dd/mm/yyyy', 'Startup Name', 'Industry Vertical',\n",
       "       'SubVertical', 'City  Location', 'Investors Name', 'InvestmentnType',\n",
       "       'Amount in USD', 'Sub-Vertical',\n",
       "       ...\n",
       "       'vishal jain', 'vy', 'warburg pincus', 'westbridge', 'white unicorn',\n",
       "       'y combinator', 'yournest angel fund\\\\xc2\\\\xa0', 'youwecan',\n",
       "       'zeeshan hayat', 'zodius'],\n",
       "      dtype='object', length=558)"
      ]
     },
     "execution_count": 241,
     "metadata": {},
     "output_type": "execute_result"
    }
   ],
   "source": [
    "df.columns"
   ]
  },
  {
   "cell_type": "code",
   "execution_count": 242,
   "id": "75b4269f-bbfe-4a74-b179-cfcd16424ffe",
   "metadata": {},
   "outputs": [],
   "source": [
    "X = pd.get_dummies(df.drop(columns=['Sr No','Date dd/mm/yyyy','Startup Name','Amount in USD','SubVertical','Investors Name','Investors List']))\n",
    "y = df['Amount in USD']\n",
    "y = np.log1p(y) # applied a log1p transformation to the target to reduce skewness and stabilize variance.\n",
    "\n",
    "random_state=42\n",
    "X_train, X_test, y_train, y_test = train_test_split(X, y, train_size=.8, random_state=random_state)"
   ]
  },
  {
   "cell_type": "code",
   "execution_count": 243,
   "id": "089fc991-89a5-43b7-88d7-631f76bfe9d1",
   "metadata": {},
   "outputs": [
    {
     "name": "stdout",
     "output_type": "stream",
     "text": [
      "Train Set Shape: (1541, 1857)\n",
      "Test Set Shape: (386, 1857)\n"
     ]
    }
   ],
   "source": [
    "train = X_train.shape\n",
    "test = X_test.shape\n",
    "\n",
    "print(f'Train Set Shape: {train}')\n",
    "print(f'Test Set Shape: {test}')"
   ]
  },
  {
   "cell_type": "markdown",
   "id": "e2b9c4a2-5adb-4022-8580-172f2ab538ed",
   "metadata": {},
   "source": [
    "### I decide to go with a RandomForestRegressor through a RandomizedSearchCV to find the best parameters."
   ]
  },
  {
   "cell_type": "code",
   "execution_count": 244,
   "id": "f1febef7-d74d-4ec5-af31-52da5fa229e3",
   "metadata": {},
   "outputs": [
    {
     "data": {
      "text/html": [
       "<style>#sk-container-id-5 {\n",
       "  /* Definition of color scheme common for light and dark mode */\n",
       "  --sklearn-color-text: #000;\n",
       "  --sklearn-color-text-muted: #666;\n",
       "  --sklearn-color-line: gray;\n",
       "  /* Definition of color scheme for unfitted estimators */\n",
       "  --sklearn-color-unfitted-level-0: #fff5e6;\n",
       "  --sklearn-color-unfitted-level-1: #f6e4d2;\n",
       "  --sklearn-color-unfitted-level-2: #ffe0b3;\n",
       "  --sklearn-color-unfitted-level-3: chocolate;\n",
       "  /* Definition of color scheme for fitted estimators */\n",
       "  --sklearn-color-fitted-level-0: #f0f8ff;\n",
       "  --sklearn-color-fitted-level-1: #d4ebff;\n",
       "  --sklearn-color-fitted-level-2: #b3dbfd;\n",
       "  --sklearn-color-fitted-level-3: cornflowerblue;\n",
       "\n",
       "  /* Specific color for light theme */\n",
       "  --sklearn-color-text-on-default-background: var(--sg-text-color, var(--theme-code-foreground, var(--jp-content-font-color1, black)));\n",
       "  --sklearn-color-background: var(--sg-background-color, var(--theme-background, var(--jp-layout-color0, white)));\n",
       "  --sklearn-color-border-box: var(--sg-text-color, var(--theme-code-foreground, var(--jp-content-font-color1, black)));\n",
       "  --sklearn-color-icon: #696969;\n",
       "\n",
       "  @media (prefers-color-scheme: dark) {\n",
       "    /* Redefinition of color scheme for dark theme */\n",
       "    --sklearn-color-text-on-default-background: var(--sg-text-color, var(--theme-code-foreground, var(--jp-content-font-color1, white)));\n",
       "    --sklearn-color-background: var(--sg-background-color, var(--theme-background, var(--jp-layout-color0, #111)));\n",
       "    --sklearn-color-border-box: var(--sg-text-color, var(--theme-code-foreground, var(--jp-content-font-color1, white)));\n",
       "    --sklearn-color-icon: #878787;\n",
       "  }\n",
       "}\n",
       "\n",
       "#sk-container-id-5 {\n",
       "  color: var(--sklearn-color-text);\n",
       "}\n",
       "\n",
       "#sk-container-id-5 pre {\n",
       "  padding: 0;\n",
       "}\n",
       "\n",
       "#sk-container-id-5 input.sk-hidden--visually {\n",
       "  border: 0;\n",
       "  clip: rect(1px 1px 1px 1px);\n",
       "  clip: rect(1px, 1px, 1px, 1px);\n",
       "  height: 1px;\n",
       "  margin: -1px;\n",
       "  overflow: hidden;\n",
       "  padding: 0;\n",
       "  position: absolute;\n",
       "  width: 1px;\n",
       "}\n",
       "\n",
       "#sk-container-id-5 div.sk-dashed-wrapped {\n",
       "  border: 1px dashed var(--sklearn-color-line);\n",
       "  margin: 0 0.4em 0.5em 0.4em;\n",
       "  box-sizing: border-box;\n",
       "  padding-bottom: 0.4em;\n",
       "  background-color: var(--sklearn-color-background);\n",
       "}\n",
       "\n",
       "#sk-container-id-5 div.sk-container {\n",
       "  /* jupyter's `normalize.less` sets `[hidden] { display: none; }`\n",
       "     but bootstrap.min.css set `[hidden] { display: none !important; }`\n",
       "     so we also need the `!important` here to be able to override the\n",
       "     default hidden behavior on the sphinx rendered scikit-learn.org.\n",
       "     See: https://github.com/scikit-learn/scikit-learn/issues/21755 */\n",
       "  display: inline-block !important;\n",
       "  position: relative;\n",
       "}\n",
       "\n",
       "#sk-container-id-5 div.sk-text-repr-fallback {\n",
       "  display: none;\n",
       "}\n",
       "\n",
       "div.sk-parallel-item,\n",
       "div.sk-serial,\n",
       "div.sk-item {\n",
       "  /* draw centered vertical line to link estimators */\n",
       "  background-image: linear-gradient(var(--sklearn-color-text-on-default-background), var(--sklearn-color-text-on-default-background));\n",
       "  background-size: 2px 100%;\n",
       "  background-repeat: no-repeat;\n",
       "  background-position: center center;\n",
       "}\n",
       "\n",
       "/* Parallel-specific style estimator block */\n",
       "\n",
       "#sk-container-id-5 div.sk-parallel-item::after {\n",
       "  content: \"\";\n",
       "  width: 100%;\n",
       "  border-bottom: 2px solid var(--sklearn-color-text-on-default-background);\n",
       "  flex-grow: 1;\n",
       "}\n",
       "\n",
       "#sk-container-id-5 div.sk-parallel {\n",
       "  display: flex;\n",
       "  align-items: stretch;\n",
       "  justify-content: center;\n",
       "  background-color: var(--sklearn-color-background);\n",
       "  position: relative;\n",
       "}\n",
       "\n",
       "#sk-container-id-5 div.sk-parallel-item {\n",
       "  display: flex;\n",
       "  flex-direction: column;\n",
       "}\n",
       "\n",
       "#sk-container-id-5 div.sk-parallel-item:first-child::after {\n",
       "  align-self: flex-end;\n",
       "  width: 50%;\n",
       "}\n",
       "\n",
       "#sk-container-id-5 div.sk-parallel-item:last-child::after {\n",
       "  align-self: flex-start;\n",
       "  width: 50%;\n",
       "}\n",
       "\n",
       "#sk-container-id-5 div.sk-parallel-item:only-child::after {\n",
       "  width: 0;\n",
       "}\n",
       "\n",
       "/* Serial-specific style estimator block */\n",
       "\n",
       "#sk-container-id-5 div.sk-serial {\n",
       "  display: flex;\n",
       "  flex-direction: column;\n",
       "  align-items: center;\n",
       "  background-color: var(--sklearn-color-background);\n",
       "  padding-right: 1em;\n",
       "  padding-left: 1em;\n",
       "}\n",
       "\n",
       "\n",
       "/* Toggleable style: style used for estimator/Pipeline/ColumnTransformer box that is\n",
       "clickable and can be expanded/collapsed.\n",
       "- Pipeline and ColumnTransformer use this feature and define the default style\n",
       "- Estimators will overwrite some part of the style using the `sk-estimator` class\n",
       "*/\n",
       "\n",
       "/* Pipeline and ColumnTransformer style (default) */\n",
       "\n",
       "#sk-container-id-5 div.sk-toggleable {\n",
       "  /* Default theme specific background. It is overwritten whether we have a\n",
       "  specific estimator or a Pipeline/ColumnTransformer */\n",
       "  background-color: var(--sklearn-color-background);\n",
       "}\n",
       "\n",
       "/* Toggleable label */\n",
       "#sk-container-id-5 label.sk-toggleable__label {\n",
       "  cursor: pointer;\n",
       "  display: flex;\n",
       "  width: 100%;\n",
       "  margin-bottom: 0;\n",
       "  padding: 0.5em;\n",
       "  box-sizing: border-box;\n",
       "  text-align: center;\n",
       "  align-items: start;\n",
       "  justify-content: space-between;\n",
       "  gap: 0.5em;\n",
       "}\n",
       "\n",
       "#sk-container-id-5 label.sk-toggleable__label .caption {\n",
       "  font-size: 0.6rem;\n",
       "  font-weight: lighter;\n",
       "  color: var(--sklearn-color-text-muted);\n",
       "}\n",
       "\n",
       "#sk-container-id-5 label.sk-toggleable__label-arrow:before {\n",
       "  /* Arrow on the left of the label */\n",
       "  content: \"▸\";\n",
       "  float: left;\n",
       "  margin-right: 0.25em;\n",
       "  color: var(--sklearn-color-icon);\n",
       "}\n",
       "\n",
       "#sk-container-id-5 label.sk-toggleable__label-arrow:hover:before {\n",
       "  color: var(--sklearn-color-text);\n",
       "}\n",
       "\n",
       "/* Toggleable content - dropdown */\n",
       "\n",
       "#sk-container-id-5 div.sk-toggleable__content {\n",
       "  max-height: 0;\n",
       "  max-width: 0;\n",
       "  overflow: hidden;\n",
       "  text-align: left;\n",
       "  /* unfitted */\n",
       "  background-color: var(--sklearn-color-unfitted-level-0);\n",
       "}\n",
       "\n",
       "#sk-container-id-5 div.sk-toggleable__content.fitted {\n",
       "  /* fitted */\n",
       "  background-color: var(--sklearn-color-fitted-level-0);\n",
       "}\n",
       "\n",
       "#sk-container-id-5 div.sk-toggleable__content pre {\n",
       "  margin: 0.2em;\n",
       "  border-radius: 0.25em;\n",
       "  color: var(--sklearn-color-text);\n",
       "  /* unfitted */\n",
       "  background-color: var(--sklearn-color-unfitted-level-0);\n",
       "}\n",
       "\n",
       "#sk-container-id-5 div.sk-toggleable__content.fitted pre {\n",
       "  /* unfitted */\n",
       "  background-color: var(--sklearn-color-fitted-level-0);\n",
       "}\n",
       "\n",
       "#sk-container-id-5 input.sk-toggleable__control:checked~div.sk-toggleable__content {\n",
       "  /* Expand drop-down */\n",
       "  max-height: 200px;\n",
       "  max-width: 100%;\n",
       "  overflow: auto;\n",
       "}\n",
       "\n",
       "#sk-container-id-5 input.sk-toggleable__control:checked~label.sk-toggleable__label-arrow:before {\n",
       "  content: \"▾\";\n",
       "}\n",
       "\n",
       "/* Pipeline/ColumnTransformer-specific style */\n",
       "\n",
       "#sk-container-id-5 div.sk-label input.sk-toggleable__control:checked~label.sk-toggleable__label {\n",
       "  color: var(--sklearn-color-text);\n",
       "  background-color: var(--sklearn-color-unfitted-level-2);\n",
       "}\n",
       "\n",
       "#sk-container-id-5 div.sk-label.fitted input.sk-toggleable__control:checked~label.sk-toggleable__label {\n",
       "  background-color: var(--sklearn-color-fitted-level-2);\n",
       "}\n",
       "\n",
       "/* Estimator-specific style */\n",
       "\n",
       "/* Colorize estimator box */\n",
       "#sk-container-id-5 div.sk-estimator input.sk-toggleable__control:checked~label.sk-toggleable__label {\n",
       "  /* unfitted */\n",
       "  background-color: var(--sklearn-color-unfitted-level-2);\n",
       "}\n",
       "\n",
       "#sk-container-id-5 div.sk-estimator.fitted input.sk-toggleable__control:checked~label.sk-toggleable__label {\n",
       "  /* fitted */\n",
       "  background-color: var(--sklearn-color-fitted-level-2);\n",
       "}\n",
       "\n",
       "#sk-container-id-5 div.sk-label label.sk-toggleable__label,\n",
       "#sk-container-id-5 div.sk-label label {\n",
       "  /* The background is the default theme color */\n",
       "  color: var(--sklearn-color-text-on-default-background);\n",
       "}\n",
       "\n",
       "/* On hover, darken the color of the background */\n",
       "#sk-container-id-5 div.sk-label:hover label.sk-toggleable__label {\n",
       "  color: var(--sklearn-color-text);\n",
       "  background-color: var(--sklearn-color-unfitted-level-2);\n",
       "}\n",
       "\n",
       "/* Label box, darken color on hover, fitted */\n",
       "#sk-container-id-5 div.sk-label.fitted:hover label.sk-toggleable__label.fitted {\n",
       "  color: var(--sklearn-color-text);\n",
       "  background-color: var(--sklearn-color-fitted-level-2);\n",
       "}\n",
       "\n",
       "/* Estimator label */\n",
       "\n",
       "#sk-container-id-5 div.sk-label label {\n",
       "  font-family: monospace;\n",
       "  font-weight: bold;\n",
       "  display: inline-block;\n",
       "  line-height: 1.2em;\n",
       "}\n",
       "\n",
       "#sk-container-id-5 div.sk-label-container {\n",
       "  text-align: center;\n",
       "}\n",
       "\n",
       "/* Estimator-specific */\n",
       "#sk-container-id-5 div.sk-estimator {\n",
       "  font-family: monospace;\n",
       "  border: 1px dotted var(--sklearn-color-border-box);\n",
       "  border-radius: 0.25em;\n",
       "  box-sizing: border-box;\n",
       "  margin-bottom: 0.5em;\n",
       "  /* unfitted */\n",
       "  background-color: var(--sklearn-color-unfitted-level-0);\n",
       "}\n",
       "\n",
       "#sk-container-id-5 div.sk-estimator.fitted {\n",
       "  /* fitted */\n",
       "  background-color: var(--sklearn-color-fitted-level-0);\n",
       "}\n",
       "\n",
       "/* on hover */\n",
       "#sk-container-id-5 div.sk-estimator:hover {\n",
       "  /* unfitted */\n",
       "  background-color: var(--sklearn-color-unfitted-level-2);\n",
       "}\n",
       "\n",
       "#sk-container-id-5 div.sk-estimator.fitted:hover {\n",
       "  /* fitted */\n",
       "  background-color: var(--sklearn-color-fitted-level-2);\n",
       "}\n",
       "\n",
       "/* Specification for estimator info (e.g. \"i\" and \"?\") */\n",
       "\n",
       "/* Common style for \"i\" and \"?\" */\n",
       "\n",
       ".sk-estimator-doc-link,\n",
       "a:link.sk-estimator-doc-link,\n",
       "a:visited.sk-estimator-doc-link {\n",
       "  float: right;\n",
       "  font-size: smaller;\n",
       "  line-height: 1em;\n",
       "  font-family: monospace;\n",
       "  background-color: var(--sklearn-color-background);\n",
       "  border-radius: 1em;\n",
       "  height: 1em;\n",
       "  width: 1em;\n",
       "  text-decoration: none !important;\n",
       "  margin-left: 0.5em;\n",
       "  text-align: center;\n",
       "  /* unfitted */\n",
       "  border: var(--sklearn-color-unfitted-level-1) 1pt solid;\n",
       "  color: var(--sklearn-color-unfitted-level-1);\n",
       "}\n",
       "\n",
       ".sk-estimator-doc-link.fitted,\n",
       "a:link.sk-estimator-doc-link.fitted,\n",
       "a:visited.sk-estimator-doc-link.fitted {\n",
       "  /* fitted */\n",
       "  border: var(--sklearn-color-fitted-level-1) 1pt solid;\n",
       "  color: var(--sklearn-color-fitted-level-1);\n",
       "}\n",
       "\n",
       "/* On hover */\n",
       "div.sk-estimator:hover .sk-estimator-doc-link:hover,\n",
       ".sk-estimator-doc-link:hover,\n",
       "div.sk-label-container:hover .sk-estimator-doc-link:hover,\n",
       ".sk-estimator-doc-link:hover {\n",
       "  /* unfitted */\n",
       "  background-color: var(--sklearn-color-unfitted-level-3);\n",
       "  color: var(--sklearn-color-background);\n",
       "  text-decoration: none;\n",
       "}\n",
       "\n",
       "div.sk-estimator.fitted:hover .sk-estimator-doc-link.fitted:hover,\n",
       ".sk-estimator-doc-link.fitted:hover,\n",
       "div.sk-label-container:hover .sk-estimator-doc-link.fitted:hover,\n",
       ".sk-estimator-doc-link.fitted:hover {\n",
       "  /* fitted */\n",
       "  background-color: var(--sklearn-color-fitted-level-3);\n",
       "  color: var(--sklearn-color-background);\n",
       "  text-decoration: none;\n",
       "}\n",
       "\n",
       "/* Span, style for the box shown on hovering the info icon */\n",
       ".sk-estimator-doc-link span {\n",
       "  display: none;\n",
       "  z-index: 9999;\n",
       "  position: relative;\n",
       "  font-weight: normal;\n",
       "  right: .2ex;\n",
       "  padding: .5ex;\n",
       "  margin: .5ex;\n",
       "  width: min-content;\n",
       "  min-width: 20ex;\n",
       "  max-width: 50ex;\n",
       "  color: var(--sklearn-color-text);\n",
       "  box-shadow: 2pt 2pt 4pt #999;\n",
       "  /* unfitted */\n",
       "  background: var(--sklearn-color-unfitted-level-0);\n",
       "  border: .5pt solid var(--sklearn-color-unfitted-level-3);\n",
       "}\n",
       "\n",
       ".sk-estimator-doc-link.fitted span {\n",
       "  /* fitted */\n",
       "  background: var(--sklearn-color-fitted-level-0);\n",
       "  border: var(--sklearn-color-fitted-level-3);\n",
       "}\n",
       "\n",
       ".sk-estimator-doc-link:hover span {\n",
       "  display: block;\n",
       "}\n",
       "\n",
       "/* \"?\"-specific style due to the `<a>` HTML tag */\n",
       "\n",
       "#sk-container-id-5 a.estimator_doc_link {\n",
       "  float: right;\n",
       "  font-size: 1rem;\n",
       "  line-height: 1em;\n",
       "  font-family: monospace;\n",
       "  background-color: var(--sklearn-color-background);\n",
       "  border-radius: 1rem;\n",
       "  height: 1rem;\n",
       "  width: 1rem;\n",
       "  text-decoration: none;\n",
       "  /* unfitted */\n",
       "  color: var(--sklearn-color-unfitted-level-1);\n",
       "  border: var(--sklearn-color-unfitted-level-1) 1pt solid;\n",
       "}\n",
       "\n",
       "#sk-container-id-5 a.estimator_doc_link.fitted {\n",
       "  /* fitted */\n",
       "  border: var(--sklearn-color-fitted-level-1) 1pt solid;\n",
       "  color: var(--sklearn-color-fitted-level-1);\n",
       "}\n",
       "\n",
       "/* On hover */\n",
       "#sk-container-id-5 a.estimator_doc_link:hover {\n",
       "  /* unfitted */\n",
       "  background-color: var(--sklearn-color-unfitted-level-3);\n",
       "  color: var(--sklearn-color-background);\n",
       "  text-decoration: none;\n",
       "}\n",
       "\n",
       "#sk-container-id-5 a.estimator_doc_link.fitted:hover {\n",
       "  /* fitted */\n",
       "  background-color: var(--sklearn-color-fitted-level-3);\n",
       "}\n",
       "</style><div id=\"sk-container-id-5\" class=\"sk-top-container\"><div class=\"sk-text-repr-fallback\"><pre>RandomizedSearchCV(cv=5, estimator=RandomForestRegressor(random_state=42),\n",
       "                   n_iter=30,\n",
       "                   param_distributions={&#x27;bootstrap&#x27;: [True, False],\n",
       "                                        &#x27;max_depth&#x27;: [5, 10, 15, 20, 25],\n",
       "                                        &#x27;max_features&#x27;: [&#x27;sqrt&#x27;, &#x27;log2&#x27;, 0.7,\n",
       "                                                         0.8],\n",
       "                                        &#x27;min_samples_leaf&#x27;: [1, 2, 4, 6],\n",
       "                                        &#x27;min_samples_split&#x27;: [2, 5, 10, 15],\n",
       "                                        &#x27;n_estimators&#x27;: [100, 150, 200]},\n",
       "                   random_state=42, refit=&#x27;neg_root_mean_squared_error&#x27;,\n",
       "                   scoring=[&#x27;neg_root_mean_squared_error&#x27;,\n",
       "                            &#x27;neg_mean_absolute_error&#x27;, &#x27;r2&#x27;])</pre><b>In a Jupyter environment, please rerun this cell to show the HTML representation or trust the notebook. <br />On GitHub, the HTML representation is unable to render, please try loading this page with nbviewer.org.</b></div><div class=\"sk-container\" hidden><div class=\"sk-item sk-dashed-wrapped\"><div class=\"sk-label-container\"><div class=\"sk-label fitted sk-toggleable\"><input class=\"sk-toggleable__control sk-hidden--visually\" id=\"sk-estimator-id-13\" type=\"checkbox\" ><label for=\"sk-estimator-id-13\" class=\"sk-toggleable__label fitted sk-toggleable__label-arrow\"><div><div>RandomizedSearchCV</div></div><div><a class=\"sk-estimator-doc-link fitted\" rel=\"noreferrer\" target=\"_blank\" href=\"https://scikit-learn.org/1.6/modules/generated/sklearn.model_selection.RandomizedSearchCV.html\">?<span>Documentation for RandomizedSearchCV</span></a><span class=\"sk-estimator-doc-link fitted\">i<span>Fitted</span></span></div></label><div class=\"sk-toggleable__content fitted\"><pre>RandomizedSearchCV(cv=5, estimator=RandomForestRegressor(random_state=42),\n",
       "                   n_iter=30,\n",
       "                   param_distributions={&#x27;bootstrap&#x27;: [True, False],\n",
       "                                        &#x27;max_depth&#x27;: [5, 10, 15, 20, 25],\n",
       "                                        &#x27;max_features&#x27;: [&#x27;sqrt&#x27;, &#x27;log2&#x27;, 0.7,\n",
       "                                                         0.8],\n",
       "                                        &#x27;min_samples_leaf&#x27;: [1, 2, 4, 6],\n",
       "                                        &#x27;min_samples_split&#x27;: [2, 5, 10, 15],\n",
       "                                        &#x27;n_estimators&#x27;: [100, 150, 200]},\n",
       "                   random_state=42, refit=&#x27;neg_root_mean_squared_error&#x27;,\n",
       "                   scoring=[&#x27;neg_root_mean_squared_error&#x27;,\n",
       "                            &#x27;neg_mean_absolute_error&#x27;, &#x27;r2&#x27;])</pre></div> </div></div><div class=\"sk-parallel\"><div class=\"sk-parallel-item\"><div class=\"sk-item\"><div class=\"sk-label-container\"><div class=\"sk-label fitted sk-toggleable\"><input class=\"sk-toggleable__control sk-hidden--visually\" id=\"sk-estimator-id-14\" type=\"checkbox\" ><label for=\"sk-estimator-id-14\" class=\"sk-toggleable__label fitted sk-toggleable__label-arrow\"><div><div>best_estimator_: RandomForestRegressor</div></div></label><div class=\"sk-toggleable__content fitted\"><pre>RandomForestRegressor(max_depth=25, max_features=0.7, min_samples_leaf=2,\n",
       "                      min_samples_split=5, n_estimators=200, random_state=42)</pre></div> </div></div><div class=\"sk-serial\"><div class=\"sk-item\"><div class=\"sk-estimator fitted sk-toggleable\"><input class=\"sk-toggleable__control sk-hidden--visually\" id=\"sk-estimator-id-15\" type=\"checkbox\" ><label for=\"sk-estimator-id-15\" class=\"sk-toggleable__label fitted sk-toggleable__label-arrow\"><div><div>RandomForestRegressor</div></div><div><a class=\"sk-estimator-doc-link fitted\" rel=\"noreferrer\" target=\"_blank\" href=\"https://scikit-learn.org/1.6/modules/generated/sklearn.ensemble.RandomForestRegressor.html\">?<span>Documentation for RandomForestRegressor</span></a></div></label><div class=\"sk-toggleable__content fitted\"><pre>RandomForestRegressor(max_depth=25, max_features=0.7, min_samples_leaf=2,\n",
       "                      min_samples_split=5, n_estimators=200, random_state=42)</pre></div> </div></div></div></div></div></div></div></div></div>"
      ],
      "text/plain": [
       "RandomizedSearchCV(cv=5, estimator=RandomForestRegressor(random_state=42),\n",
       "                   n_iter=30,\n",
       "                   param_distributions={'bootstrap': [True, False],\n",
       "                                        'max_depth': [5, 10, 15, 20, 25],\n",
       "                                        'max_features': ['sqrt', 'log2', 0.7,\n",
       "                                                         0.8],\n",
       "                                        'min_samples_leaf': [1, 2, 4, 6],\n",
       "                                        'min_samples_split': [2, 5, 10, 15],\n",
       "                                        'n_estimators': [100, 150, 200]},\n",
       "                   random_state=42, refit='neg_root_mean_squared_error',\n",
       "                   scoring=['neg_root_mean_squared_error',\n",
       "                            'neg_mean_absolute_error', 'r2'])"
      ]
     },
     "execution_count": 244,
     "metadata": {},
     "output_type": "execute_result"
    }
   ],
   "source": [
    "rf = RandomForestRegressor(random_state=random_state)\n",
    "\n",
    "param_grid = {\n",
    "    'n_estimators': [100, 150, 200],     \n",
    "    'max_depth': [5, 10, 15, 20, 25],       \n",
    "    'min_samples_split': [2, 5, 10, 15],          \n",
    "    'min_samples_leaf': [1, 2, 4, 6],             \n",
    "    'max_features': ['sqrt', 'log2', 0.7, 0.8],   \n",
    "    'bootstrap': [True, False]                   \n",
    "}\n",
    "\n",
    "rfs = RandomizedSearchCV(rf, \n",
    "                        param_distributions=param_grid, \n",
    "                        cv=5, \n",
    "                        n_iter=30,\n",
    "                        random_state=random_state,\n",
    "                        verbose=0,\n",
    "                        scoring=['neg_root_mean_squared_error', 'neg_mean_absolute_error', 'r2'],\n",
    "                        refit='neg_root_mean_squared_error'\n",
    "                        )\n",
    "\n",
    "rfs.fit(X_train, y_train)"
   ]
  },
  {
   "cell_type": "code",
   "execution_count": 195,
   "id": "1b0a4652-1e76-47a1-a8fa-3d5661f83fc5",
   "metadata": {},
   "outputs": [
    {
     "data": {
      "text/plain": [
       "{'n_estimators': 200,\n",
       " 'min_samples_split': 2,\n",
       " 'min_samples_leaf': 1,\n",
       " 'max_features': 0.7,\n",
       " 'max_depth': 15,\n",
       " 'bootstrap': True}"
      ]
     },
     "execution_count": 195,
     "metadata": {},
     "output_type": "execute_result"
    }
   ],
   "source": [
    "params = rfs.best_params_\n",
    "params"
   ]
  },
  {
   "cell_type": "markdown",
   "id": "6ff1b27d-4e57-4053-8ebe-b824593b6204",
   "metadata": {},
   "source": [
    "### As the main objective, I´m looking for a r2 score of 0.7 - 0.8 at minimum and a difference of < 0.12 between train and test sets. Plus a RMSE as low as possible (1M - 10m ballpark)."
   ]
  },
  {
   "cell_type": "raw",
   "id": "d581da92-be01-4bde-858f-aca283e60f00",
   "metadata": {},
   "source": [
    "| Model Variant                                   | Train RMSE (USD)   | Train MAE (USD)   | Train R² | Test RMSE (USD)    | Test MAE (USD)    | Test R² |\n",
    "|-------------------------------------------------|--------------------|-------------------|----------|--------------------|-------------------|---------|\n",
    "| RAW                                             | 130,806,916.70     | 16,484,788.21     | 0.66     | 88,331,235.87      | 16,065,519.24     | 0.59    |\n",
    "| 64% SV + Investors (count > 2)                  | 131,155,863.80     | 15,568,877.24     | 0.76     | 63,433,094.21      | 11,891,291.92     | 0.62    |\n",
    "| 64% SV + Investors (count > 5) + \"Rare\" count   | 130,504,567.74     | 15,615,101.39     | 0.76     | 62,779,673.14      | 11,581,088.10     | 0.63    | <---BEST RUN SO FAR\n",
    "| 64% SV + Investors (count > 6) + \"Rare\" count   | 130,341,585.24     | 15,588,298.96     | 0.77     | 62,737,896.19      | 11,636,428.40     | 0.63    |\n",
    "| 64% SV + Investors (count > 4) + \"Rare\" count   | 129,955,007.39     | 15,592,787.25     | 0.77     | 62,802,491.87      | 11,635,895.43     | 0.63    |\n",
    "| 64% SV + Investors (count > 10) + \"Rare\" count  | 123,453,752.46     | 14,810,789.99     | 0.74     | 63,296,122.16      | 12,121,546.42     | 0.59    |\n",
    "\n"
   ]
  },
  {
   "cell_type": "code",
   "execution_count": 245,
   "id": "0805709b-3e54-404f-860a-bef72d1829c3",
   "metadata": {},
   "outputs": [
    {
     "name": "stdout",
     "output_type": "stream",
     "text": [
      "64% SV + investors list (count > 6) + \"rare\" count TRAIN SCORES:\n",
      "RMSE: 130341585.24\n",
      "MAE: 15588298.96\n",
      "R2: 0.77\n",
      "----------------------\n",
      "64% SV + investor list (count > 6) + \"rare\" count TEST SCORES:\n",
      "RMSE: 62737896.19\n",
      "MAE: 11636428.40\n",
      "R2: 0.63\n"
     ]
    }
   ],
   "source": [
    "train_pred = rfs.predict(X_train)\n",
    "test_pred = rfs.predict(X_test)\n",
    "\n",
    "trmse = np.sqrt(mean_squared_error(np.expm1(y_train), np.expm1(train_pred)))\n",
    "tmae = mean_absolute_error(np.expm1(y_train), np.expm1(train_pred))\n",
    "tr2 = r2_score(y_train, train_pred)\n",
    "\n",
    "rmse = np.sqrt(mean_squared_error(np.expm1(y_test), np.expm1(test_pred)))\n",
    "mae = mean_absolute_error(np.expm1(y_test), np.expm1(test_pred))\n",
    "r2 = r2_score(y_test, test_pred)\n",
    "\n",
    "print(f'64% SV + investors list (count > 6) + \"rare\" count TRAIN SCORES:')\n",
    "print(f'RMSE: {trmse:.2f}')\n",
    "print(f'MAE: {tmae:.2f}')\n",
    "print(f'R2: {tr2:.2f}')\n",
    "print('----------------------')\n",
    "print(f'64% SV + investor list (count > 6) + \"rare\" count TEST SCORES:')\n",
    "print(f'RMSE: {rmse:.2f}')\n",
    "print(f'MAE: {mae:.2f}')\n",
    "print(f'R2: {r2:.2f}')"
   ]
  },
  {
   "cell_type": "markdown",
   "id": "1d1d988d-2d22-4a5d-ac05-dd86c68002b8",
   "metadata": {},
   "source": [
    "### Finally I decided to take a look into the results of the predictions."
   ]
  },
  {
   "cell_type": "code",
   "execution_count": 136,
   "id": "9949efad-0241-4fd0-9da6-1ba3c12c3e52",
   "metadata": {},
   "outputs": [
    {
     "data": {
      "text/html": [
       "<div>\n",
       "<style scoped>\n",
       "    .dataframe tbody tr th:only-of-type {\n",
       "        vertical-align: middle;\n",
       "    }\n",
       "\n",
       "    .dataframe tbody tr th {\n",
       "        vertical-align: top;\n",
       "    }\n",
       "\n",
       "    .dataframe thead th {\n",
       "        text-align: right;\n",
       "    }\n",
       "</style>\n",
       "<table border=\"1\" class=\"dataframe\">\n",
       "  <thead>\n",
       "    <tr style=\"text-align: right;\">\n",
       "      <th></th>\n",
       "      <th>Actual</th>\n",
       "      <th>Predicted</th>\n",
       "      <th>Error</th>\n",
       "    </tr>\n",
       "  </thead>\n",
       "  <tbody>\n",
       "    <tr>\n",
       "      <th>86</th>\n",
       "      <td>52,000,000</td>\n",
       "      <td>6,042,442</td>\n",
       "      <td>45,957,558</td>\n",
       "    </tr>\n",
       "    <tr>\n",
       "      <th>586</th>\n",
       "      <td>250,000,000</td>\n",
       "      <td>5,255,493</td>\n",
       "      <td>244,744,507</td>\n",
       "    </tr>\n",
       "    <tr>\n",
       "      <th>423</th>\n",
       "      <td>50,000,000</td>\n",
       "      <td>5,226,847</td>\n",
       "      <td>44,773,153</td>\n",
       "    </tr>\n",
       "    <tr>\n",
       "      <th>772</th>\n",
       "      <td>5,000,000</td>\n",
       "      <td>5,261,726</td>\n",
       "      <td>-261,726</td>\n",
       "    </tr>\n",
       "    <tr>\n",
       "      <th>1859</th>\n",
       "      <td>1,000,000</td>\n",
       "      <td>244,615</td>\n",
       "      <td>755,385</td>\n",
       "    </tr>\n",
       "    <tr>\n",
       "      <th>...</th>\n",
       "      <td>...</td>\n",
       "      <td>...</td>\n",
       "      <td>...</td>\n",
       "    </tr>\n",
       "    <tr>\n",
       "      <th>533</th>\n",
       "      <td>2,000,000</td>\n",
       "      <td>5,192,332</td>\n",
       "      <td>-3,192,332</td>\n",
       "    </tr>\n",
       "    <tr>\n",
       "      <th>687</th>\n",
       "      <td>3,000,000</td>\n",
       "      <td>5,261,726</td>\n",
       "      <td>-2,261,726</td>\n",
       "    </tr>\n",
       "    <tr>\n",
       "      <th>419</th>\n",
       "      <td>7,400,000</td>\n",
       "      <td>7,825,210</td>\n",
       "      <td>-425,210</td>\n",
       "    </tr>\n",
       "    <tr>\n",
       "      <th>1682</th>\n",
       "      <td>1,000,000</td>\n",
       "      <td>5,213,489</td>\n",
       "      <td>-4,213,489</td>\n",
       "    </tr>\n",
       "    <tr>\n",
       "      <th>1252</th>\n",
       "      <td>2,000,000</td>\n",
       "      <td>5,199,889</td>\n",
       "      <td>-3,199,889</td>\n",
       "    </tr>\n",
       "  </tbody>\n",
       "</table>\n",
       "<p>280 rows × 3 columns</p>\n",
       "</div>"
      ],
      "text/plain": [
       "           Actual  Predicted        Error\n",
       "86     52,000,000  6,042,442   45,957,558\n",
       "586   250,000,000  5,255,493  244,744,507\n",
       "423    50,000,000  5,226,847   44,773,153\n",
       "772     5,000,000  5,261,726     -261,726\n",
       "1859    1,000,000    244,615      755,385\n",
       "...           ...        ...          ...\n",
       "533     2,000,000  5,192,332   -3,192,332\n",
       "687     3,000,000  5,261,726   -2,261,726\n",
       "419     7,400,000  7,825,210     -425,210\n",
       "1682    1,000,000  5,213,489   -4,213,489\n",
       "1252    2,000,000  5,199,889   -3,199,889\n",
       "\n",
       "[280 rows x 3 columns]"
      ]
     },
     "execution_count": 136,
     "metadata": {},
     "output_type": "execute_result"
    }
   ],
   "source": [
    "y_pred = rfs.predict(X_test)\n",
    "true_y_pred = np.expm1(y_pred)\n",
    "\n",
    "results = pd.DataFrame({\n",
    "    'Actual': np.expm1(y_test),\n",
    "    'Predicted': true_y_pred\n",
    "})\n",
    "\n",
    "results['Error'] = results['Actual'] - results['Predicted']\n",
    "results['Actual'] = results['Actual'].map('{:,.0f}'.format)\n",
    "results['Predicted'] = results['Predicted'].map('{:,.0f}'.format)\n",
    "results['Error'] = results['Error'].map('{:,.0f}'.format)\n",
    "\n",
    "results"
   ]
  },
  {
   "cell_type": "code",
   "execution_count": null,
   "id": "8ff3879e-e14b-42cc-b0a6-eb2d5d9ae7ab",
   "metadata": {},
   "outputs": [],
   "source": []
  }
 ],
 "metadata": {
  "kernelspec": {
   "display_name": "Python [conda env:base] *",
   "language": "python",
   "name": "conda-base-py"
  },
  "language_info": {
   "codemirror_mode": {
    "name": "ipython",
    "version": 3
   },
   "file_extension": ".py",
   "mimetype": "text/x-python",
   "name": "python",
   "nbconvert_exporter": "python",
   "pygments_lexer": "ipython3",
   "version": "3.13.5"
  }
 },
 "nbformat": 4,
 "nbformat_minor": 5
}
